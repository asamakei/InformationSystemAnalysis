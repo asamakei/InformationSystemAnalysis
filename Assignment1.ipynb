{
  "nbformat": 4,
  "nbformat_minor": 0,
  "metadata": {
    "colab": {
      "provenance": []
    },
    "kernelspec": {
      "name": "python3",
      "display_name": "Python 3"
    },
    "language_info": {
      "name": "python"
    }
  },
  "cells": [
    {
      "cell_type": "code",
      "execution_count": 2,
      "metadata": {
        "colab": {
          "base_uri": "https://localhost:8080/"
        },
        "id": "Fs8Sc4WYYMKn",
        "outputId": "47d25294-b891-400c-c850-146251fbdfd5"
      },
      "outputs": [
        {
          "output_type": "stream",
          "name": "stdout",
          "text": [
            "Looking in indexes: https://pypi.org/simple, https://us-python.pkg.dev/colab-wheels/public/simple/\n",
            "Requirement already satisfied: nltk in /usr/local/lib/python3.10/dist-packages (3.8.1)\n",
            "Requirement already satisfied: click in /usr/local/lib/python3.10/dist-packages (from nltk) (8.1.3)\n",
            "Requirement already satisfied: joblib in /usr/local/lib/python3.10/dist-packages (from nltk) (1.2.0)\n",
            "Requirement already satisfied: regex>=2021.8.3 in /usr/local/lib/python3.10/dist-packages (from nltk) (2022.10.31)\n",
            "Requirement already satisfied: tqdm in /usr/local/lib/python3.10/dist-packages (from nltk) (4.65.0)\n",
            "Looking in indexes: https://pypi.org/simple, https://us-python.pkg.dev/colab-wheels/public/simple/\n",
            "Requirement already satisfied: gensim in /usr/local/lib/python3.10/dist-packages (4.3.1)\n",
            "Requirement already satisfied: numpy>=1.18.5 in /usr/local/lib/python3.10/dist-packages (from gensim) (1.22.4)\n",
            "Requirement already satisfied: scipy>=1.7.0 in /usr/local/lib/python3.10/dist-packages (from gensim) (1.10.1)\n",
            "Requirement already satisfied: smart-open>=1.8.1 in /usr/local/lib/python3.10/dist-packages (from gensim) (6.3.0)\n"
          ]
        }
      ],
      "source": [
        "# 必要なパッケージのインストール\n",
        "!pip install nltk\n",
        "!pip install gensim"
      ]
    },
    {
      "cell_type": "code",
      "source": [
        "import nltk\n",
        "import numpy as np\n",
        "import pandas as pd"
      ],
      "metadata": {
        "id": "0kPsizIcYdrZ"
      },
      "execution_count": 3,
      "outputs": []
    },
    {
      "cell_type": "code",
      "source": [
        "nltk.download(\"stopwords\")\n",
        "nltk.download(\"wordnet\")\n",
        "nltk.download(\"punkt\")"
      ],
      "metadata": {
        "colab": {
          "base_uri": "https://localhost:8080/"
        },
        "id": "VwUdutBxYmFt",
        "outputId": "35b1870a-2602-48a0-b932-640aed9d5853"
      },
      "execution_count": 4,
      "outputs": [
        {
          "output_type": "stream",
          "name": "stderr",
          "text": [
            "[nltk_data] Downloading package stopwords to /root/nltk_data...\n",
            "[nltk_data]   Unzipping corpora/stopwords.zip.\n",
            "[nltk_data] Downloading package wordnet to /root/nltk_data...\n",
            "[nltk_data] Downloading package punkt to /root/nltk_data...\n",
            "[nltk_data]   Unzipping tokenizers/punkt.zip.\n"
          ]
        },
        {
          "output_type": "execute_result",
          "data": {
            "text/plain": [
              "True"
            ]
          },
          "metadata": {},
          "execution_count": 4
        }
      ]
    },
    {
      "cell_type": "code",
      "source": [
        "# bag of words\n",
        "def bow_vectorizer(docs):\n",
        "  word2id = {}\n",
        "  for doc in docs:\n",
        "    for w in doc:\n",
        "      if w not in word2id:\n",
        "        word2id[w] = len(word2id)\n",
        "        \n",
        "  result_list = []\n",
        "  for doc in docs:\n",
        "    doc_vec = [0] * len(word2id)\n",
        "    for w in doc:\n",
        "      doc_vec[word2id[w]] += 1\n",
        "    result_list.append(doc_vec)\n",
        "  return result_list, word2id"
      ],
      "metadata": {
        "id": "C9GW9jUzJ12X"
      },
      "execution_count": 5,
      "outputs": []
    },
    {
      "cell_type": "code",
      "source": [
        "# tf-idf\n",
        "def tfidf_vectorizer(docs):\n",
        "  def tf(word2id, doc):\n",
        "    term_counts = np.zeros(len(word2id))\n",
        "    for term in word2id.keys():\n",
        "      term_counts[word2id[term]] = doc.count(term)\n",
        "    tf_values = list(map(lambda x: x/sum(term_counts), term_counts))\n",
        "    return tf_values\n",
        "  \n",
        "  def idf(word2id, docs):\n",
        "    idf = np.zeros(len(word2id))\n",
        "    for term in word2id.keys():\n",
        "      idf[word2id[term]] = np.log(len(docs) / sum([bool(term in doc) for doc in docs]))\n",
        "    return idf\n",
        "  \n",
        "  word2id = {}\n",
        "  for doc in docs:\n",
        "    for w in doc:\n",
        "      if w not in word2id:\n",
        "        word2id[w] = len(word2id)\n",
        "  \n",
        "  return [[_tf*_idf for _tf, _idf in zip(tf(word2id, doc), idf(word2id, docs))] for doc in docs], word2id"
      ],
      "metadata": {
        "id": "PxBJLlyZdlsu"
      },
      "execution_count": 6,
      "outputs": []
    },
    {
      "cell_type": "code",
      "source": [
        "# 不要なタグや記号などの削除\n",
        "import re\n",
        "def cleaning_text(text):\n",
        "    pattern1 = '-*' # ハイフンの削除\n",
        "    text = re.sub(pattern1, '', text)\n",
        "    pattern2 = '`*' # クォーテーションの削除\n",
        "    text = re.sub(pattern2, '', text)\n",
        "    pattern2 = \"'*\" # クォーテーションの削除\n",
        "    text = re.sub(pattern2, '', text)\n",
        "    pattern3 = '\\(.*?\\)' # かっこ内の削除\n",
        "    text = re.sub(pattern3, '', text)\n",
        "    return text"
      ],
      "metadata": {
        "id": "GABaIsZzY92R"
      },
      "execution_count": 7,
      "outputs": []
    },
    {
      "cell_type": "code",
      "source": [
        "# スペースで区切る\n",
        "def tokenize_text(text):\n",
        "  text = re.sub('[.,]', '', text)\n",
        "  return text.split()"
      ],
      "metadata": {
        "id": "J3SbK0FKaZUP"
      },
      "execution_count": 8,
      "outputs": []
    },
    {
      "cell_type": "code",
      "source": [
        "def remove_latter(text):\n",
        "  pattern = '/.*'\n",
        "  text = re.sub(pattern, '', text)\n",
        "  return text"
      ],
      "metadata": {
        "id": "GqvRolisO7Q9"
      },
      "execution_count": 9,
      "outputs": []
    },
    {
      "cell_type": "code",
      "source": [
        "#lemmatizeを行う\n",
        "from nltk.corpus import wordnet as wn\n",
        "\n",
        "def lemmatize_word(word):\n",
        "    # make words lower  example: Python =>python\n",
        "    word=word.lower()\n",
        "    \n",
        "    # lemmatize  example: cooked=>cook\n",
        "    lemma = wn.morphy(word)\n",
        "    if lemma is None:\n",
        "        return word\n",
        "    else:\n",
        "      return lemma"
      ],
      "metadata": {
        "id": "8LKrFjA-af3Y"
      },
      "execution_count": 10,
      "outputs": []
    },
    {
      "cell_type": "code",
      "source": [
        "# ストップワードの削除\n",
        "en_stop = nltk.corpus.stopwords.words('english')\n",
        "\n",
        "def remove_stopwords(word, stopwordset):\n",
        "  if word in stopwordset:\n",
        "    return None\n",
        "  else:\n",
        "    return word"
      ],
      "metadata": {
        "id": "4lIsyZSJanAa"
      },
      "execution_count": 11,
      "outputs": []
    },
    {
      "cell_type": "code",
      "source": [
        "# テキストの前処理\n",
        "def preprocessing_text(text):\n",
        "  text = cleaning_text(text)\n",
        "  tokens = tokenize_text(text)\n",
        "  tokens = [remove_latter(word) for word in tokens]\n",
        "  tokens = [lemmatize_word(word) for word in tokens]\n",
        "  tokens = [remove_stopwords(word, en_stop) for word in tokens]\n",
        "  tokens = [word for word in tokens if word is not None]\n",
        "  tokens = [word for word in tokens if word != '']\n",
        "  tokens = [word for word in tokens if word != '?']\n",
        "  return tokens"
      ],
      "metadata": {
        "id": "xZFklF19a8j3"
      },
      "execution_count": 12,
      "outputs": []
    },
    {
      "cell_type": "code",
      "source": [
        "nltk.download(\"brown\")\n",
        "from nltk.corpus import brown"
      ],
      "metadata": {
        "colab": {
          "base_uri": "https://localhost:8080/"
        },
        "id": "LdDWlBq9cSNl",
        "outputId": "32e6584e-fe73-425d-906e-e65a66613f3c"
      },
      "execution_count": 13,
      "outputs": [
        {
          "output_type": "stream",
          "name": "stderr",
          "text": [
            "[nltk_data] Downloading package brown to /root/nltk_data...\n",
            "[nltk_data]   Unzipping corpora/brown.zip.\n"
          ]
        }
      ]
    },
    {
      "cell_type": "code",
      "source": [
        "import numpy\n",
        "def make_docs_vector():\n",
        "  fileid = brown.fileids()\n",
        "  result = [preprocessing_text(brown.raw(fileid[i])) for i in range(len(fileid))]\n",
        "  res, _ = bow_vectorizer(result)\n",
        "  docs_vector = numpy.array(res)\n",
        "  print(docs_vector)\n",
        "  return docs_vector\n"
      ],
      "metadata": {
        "id": "U4bkqPG_dO33"
      },
      "execution_count": 17,
      "outputs": []
    },
    {
      "cell_type": "code",
      "source": [
        "from sklearn import cluster, decomposition\n",
        "import matplotlib.pyplot as plt\n",
        "import matplotlib.colors as mcolors\n",
        "def clustering(docs_vector, n_clusters):\n",
        "  model = cluster.KMeans(n_clusters=n_clusters)\n",
        "  model.fit(docs_vector)\n",
        "  print(model.labels_)\n",
        "  pca_model = decomposition.PCA(n_components=2)\n",
        "  pca_model.fit(docs_vector)\n",
        "  compressed = pca_model.transform(docs_vector)\n",
        "  for i, c in enumerate(list(plt.cm.get_cmap('tab20').colors)[:n_clusters]):\n",
        "    plt.scatter(compressed[model.labels_==i,0],compressed[model.labels_==i,1],color=c)\n"
      ],
      "metadata": {
        "id": "teZM-1sWShfu"
      },
      "execution_count": 25,
      "outputs": []
    },
    {
      "cell_type": "code",
      "source": [
        "docs_vector = make_docs_vector()"
      ],
      "metadata": {
        "colab": {
          "base_uri": "https://localhost:8080/"
        },
        "id": "z1sm99bZYYDi",
        "outputId": "b39030ed-22b7-4daa-ec01-f888b4c3525c"
      },
      "execution_count": 19,
      "outputs": [
        {
          "output_type": "stream",
          "name": "stdout",
          "text": [
            "[[14 17  4 ...  0  0  0]\n",
            " [ 0  8  0 ...  0  0  0]\n",
            " [ 0  2  3 ...  0  0  0]\n",
            " ...\n",
            " [ 0  0  1 ...  0  0  0]\n",
            " [ 0  0  1 ...  0  0  0]\n",
            " [ 0  1  0 ...  1  1  1]]\n"
          ]
        }
      ]
    },
    {
      "cell_type": "code",
      "source": [
        "clustering(docs_vector, 15)"
      ],
      "metadata": {
        "colab": {
          "base_uri": "https://localhost:8080/",
          "height": 905
        },
        "id": "AzoqnpfEY1GI",
        "outputId": "810f1946-9a84-4c55-af86-9f91747aca11"
      },
      "execution_count": 26,
      "outputs": [
        {
          "output_type": "stream",
          "name": "stderr",
          "text": [
            "/usr/local/lib/python3.10/dist-packages/sklearn/cluster/_kmeans.py:870: FutureWarning: The default value of `n_init` will change from 10 to 'auto' in 1.4. Set the value of `n_init` explicitly to suppress the warning\n",
            "  warnings.warn(\n"
          ]
        },
        {
          "output_type": "stream",
          "name": "stdout",
          "text": [
            "[ 4  4  4  4  4  4  4  4  4  4  4  4  0  4  4  4  4  4  4  0  4  4  9  4\n",
            "  4  4  4  4  3  4  3  9  4  0  3  3  4  0  4  4  9  0  3  3  4  4  0  4\n",
            "  4  4  3  0  4  3  4  4  3  4  3  3  3  3  3  3  3  0  3  9  9  3  3  3\n",
            "  3  9  0  3  3  0  0  0  9  0  3  3  9  3  9  3  3  3  3  9  0  3  9  9\n",
            "  3  3  3  3  9  0  0  9  9  9  3  3  3  4  3  3  3  9  9  0  9 13  9  9\n",
            "  3  3  0  3  3  3  9  9  3  3  0  3  3  3  3  3  3  3  3  3  3  3  6  0\n",
            "  3  0  8  3  3  6  4  3  3  3  0  3  0  5  0  3  6  9  6  9  0  3  6  9\n",
            "  4  4  4  6  9  3  3  6  6  3  6  9  0 13  3  9  9  5  4  4  3  3  3  3\n",
            "  6  9  0  4  9  3  4  3  3  3  9  9  3  4  0  9  3  0  3  3  0  3  3  0\n",
            "  3  3  3  6  6  0  0  9  6  6  3  0  6  6  9  3  3  4  3  0  0  0  0  6\n",
            "  0  6  6  0  3  3  0  0  6  0  6  3  0  0  6  6  0  3  3  9  3  9  9  6\n",
            " 11  3  3  4  4  4  4  4  9  9  3  9  4  1 10  9  0  3  3  3  3  3 14  3\n",
            "  9  0  3  3  3  3  3  0  0  2  3  0  3  0  0  3  9  3  3  3  0  0  3  2\n",
            "  3  7  7  3  9  3  3  0  0  0  0  0  9 12  3  3  9  0  0  3  3  3  3  0\n",
            "  4  3  0  3  9  4  3  3  3  0  0  9  0  6  9  4  9  3  0  3  3  9  9  0\n",
            "  9  3  3  0  3  3  3  3  3  3  3  2  2  3  6  6  6  6  6  8  8  8  6  8\n",
            "  6  6  6  6  4  6  6  6  6  6  8  6  0  6  6  6  6  6  6  6  6  6  6  6\n",
            "  6  6  6  6  6  6  6  6  6  6  6  6  6  0  6  6  6  6  6  6  6  6  6  0\n",
            "  6  6  6  8  8  6  6  6  6  6  6  6  6  8  6  6  6  6  6  6  6  6  6  6\n",
            "  6  6  6  6  6  8  6  6  8  6  6  6  6  6  6  6  6  6  8  6  6  6  6  8\n",
            "  6  6  6  6  6  8  6  6  8  6  0  6  6  6  6  0  4  6  3  0]\n"
          ]
        },
        {
          "output_type": "stream",
          "name": "stderr",
          "text": [
            "<ipython-input-25-4f05031b879e>:11: MatplotlibDeprecationWarning: The get_cmap function was deprecated in Matplotlib 3.7 and will be removed two minor releases later. Use ``matplotlib.colormaps[name]`` or ``matplotlib.colormaps.get_cmap(obj)`` instead.\n",
            "  for i, c in enumerate(list(plt.cm.get_cmap('tab20').colors)[:n_clusters]):\n"
          ]
        },
        {
          "output_type": "display_data",
          "data": {
            "text/plain": [
              "<Figure size 640x480 with 1 Axes>"
            ],
            "image/png": "[encoded data removed]"
          },
          "metadata": {}
        }
      ]
    }
  ]
}